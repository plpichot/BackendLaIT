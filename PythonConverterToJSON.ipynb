{
 "cells": [
  {
   "cell_type": "code",
   "execution_count": 1,
   "id": "fed33da5",
   "metadata": {},
   "outputs": [],
   "source": [
    "import json\n",
    "from nptdms import TdmsFile"
   ]
  },
  {
   "cell_type": "code",
   "execution_count": 2,
   "id": "a3e858a3",
   "metadata": {},
   "outputs": [],
   "source": [
    "def tdms_to_json(tdms_file_path, json_file_path):\n",
    "    tdms_file = TdmsFile.read(tdms_file_path)\n",
    "    data = {}\n",
    "    \n",
    "    channels = [channel for group in tdms_file.groups() for channel in group.channels()]\n",
    "    group_data = [group.properties for group in tdms_file.groups()]\n",
    "\n",
    "    for properties in group_data:\n",
    "        for key, value in properties.items():\n",
    "            data[key] = value\n",
    "    \n",
    "    samples = []\n",
    "    for i in range(500):\n",
    "        sample_data = {}\n",
    "        for channel in channels:\n",
    "            sample_data[channel.name] = channel[i]\n",
    "        samples.append(sample_data)\n",
    "\n",
    "    data['Data'] = samples\n",
    "\n",
    "    with open(json_file_path, 'w') as json_file:\n",
    "        json.dump(data, json_file)"
   ]
  },
  {
   "cell_type": "code",
   "execution_count": 3,
   "id": "0fcebb38",
   "metadata": {},
   "outputs": [
    {
     "ename": "FileNotFoundError",
     "evalue": "[Errno 2] No such file or directory: '/Users/plpichot/Desktop/backend/JSONFILE/SWING3.json'",
     "output_type": "error",
     "traceback": [
      "\u001b[0;31m---------------------------------------------------------------------------\u001b[0m",
      "\u001b[0;31mFileNotFoundError\u001b[0m                         Traceback (most recent call last)",
      "Input \u001b[0;32mIn [3]\u001b[0m, in \u001b[0;36m<cell line: 1>\u001b[0;34m()\u001b[0m\n\u001b[1;32m      2\u001b[0m tdms_file_path \u001b[38;5;241m=\u001b[39m \u001b[38;5;124mf\u001b[39m\u001b[38;5;124m'\u001b[39m\u001b[38;5;124m/Users/plpichot/Desktop/backend/TDMSFILES/SWING-\u001b[39m\u001b[38;5;132;01m{\u001b[39;00mi\u001b[38;5;132;01m}\u001b[39;00m\u001b[38;5;124m-06-16.tdms\u001b[39m\u001b[38;5;124m'\u001b[39m\n\u001b[1;32m      3\u001b[0m json_file_path \u001b[38;5;241m=\u001b[39m \u001b[38;5;124mf\u001b[39m\u001b[38;5;124m'\u001b[39m\u001b[38;5;124m/Users/plpichot/Desktop/backend/JSONFILE/SWING\u001b[39m\u001b[38;5;132;01m{\u001b[39;00mi\u001b[38;5;132;01m}\u001b[39;00m\u001b[38;5;124m.json\u001b[39m\u001b[38;5;124m'\u001b[39m\n\u001b[0;32m----> 4\u001b[0m \u001b[43mtdms_to_json\u001b[49m\u001b[43m(\u001b[49m\u001b[43mtdms_file_path\u001b[49m\u001b[43m,\u001b[49m\u001b[43m \u001b[49m\u001b[43mjson_file_path\u001b[49m\u001b[43m)\u001b[49m\n",
      "Input \u001b[0;32mIn [2]\u001b[0m, in \u001b[0;36mtdms_to_json\u001b[0;34m(tdms_file_path, json_file_path)\u001b[0m\n\u001b[1;32m     17\u001b[0m     samples\u001b[38;5;241m.\u001b[39mappend(sample_data)\n\u001b[1;32m     19\u001b[0m data[\u001b[38;5;124m'\u001b[39m\u001b[38;5;124mData\u001b[39m\u001b[38;5;124m'\u001b[39m] \u001b[38;5;241m=\u001b[39m samples\n\u001b[0;32m---> 21\u001b[0m \u001b[38;5;28;01mwith\u001b[39;00m \u001b[38;5;28;43mopen\u001b[39;49m\u001b[43m(\u001b[49m\u001b[43mjson_file_path\u001b[49m\u001b[43m,\u001b[49m\u001b[43m \u001b[49m\u001b[38;5;124;43m'\u001b[39;49m\u001b[38;5;124;43mw\u001b[39;49m\u001b[38;5;124;43m'\u001b[39;49m\u001b[43m)\u001b[49m \u001b[38;5;28;01mas\u001b[39;00m json_file:\n\u001b[1;32m     22\u001b[0m     json\u001b[38;5;241m.\u001b[39mdump(data, json_file)\n",
      "\u001b[0;31mFileNotFoundError\u001b[0m: [Errno 2] No such file or directory: '/Users/plpichot/Desktop/backend/JSONFILE/SWING3.json'"
     ]
    }
   ],
   "source": [
    "for i in range (3,12) :\n",
    "    tdms_file_path = f'/Users/plpichot/Desktop/backend/TDMSFILES/SWING-{i}-06-16.tdms'\n",
    "    json_file_path = f'/Users/plpichot/Desktop/backend/JSONFILE/SWING{i}.json'\n",
    "    tdms_to_json(tdms_file_path, json_file_path)"
   ]
  }
 ],
 "metadata": {
  "kernelspec": {
   "display_name": "Python 3 (ipykernel)",
   "language": "python",
   "name": "python3"
  },
  "language_info": {
   "codemirror_mode": {
    "name": "ipython",
    "version": 3
   },
   "file_extension": ".py",
   "mimetype": "text/x-python",
   "name": "python",
   "nbconvert_exporter": "python",
   "pygments_lexer": "ipython3",
   "version": "3.9.12"
  }
 },
 "nbformat": 4,
 "nbformat_minor": 5
}
