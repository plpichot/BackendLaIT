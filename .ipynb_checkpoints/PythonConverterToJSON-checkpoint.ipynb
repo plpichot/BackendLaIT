{
 "cells": [
  {
   "cell_type": "code",
   "execution_count": 1,
   "id": "fed33da5",
   "metadata": {},
   "outputs": [],
   "source": [
    "import json\n",
    "from nptdms import TdmsFile"
   ]
  },
  {
   "cell_type": "code",
   "execution_count": 2,
   "id": "a3e858a3",
   "metadata": {},
   "outputs": [],
   "source": [
    "def tdms_to_json(tdms_file_path, json_file_path):\n",
    "    tdms_file = TdmsFile.read(tdms_file_path)\n",
    "    data = {}\n",
    "    \n",
    "    channels = [channel for group in tdms_file.groups() for channel in group.channels()]\n",
    "    group_data = [group.properties for group in tdms_file.groups()]\n",
    "\n",
    "    for properties in group_data:\n",
    "        for key, value in properties.items():\n",
    "            data[key] = value\n",
    "    \n",
    "    samples = []\n",
    "    for i in range(500):\n",
    "        sample_data = {}\n",
    "        for channel in channels:\n",
    "            sample_data[channel.name] = channel[i]\n",
    "        samples.append(sample_data)\n",
    "\n",
    "    data['Data'] = samples\n",
    "\n",
    "    with open(json_file_path, 'w') as json_file:\n",
    "        json.dump(data, json_file)"
   ]
  },
  {
   "cell_type": "code",
   "execution_count": 3,
   "id": "0fcebb38",
   "metadata": {},
   "outputs": [],
   "source": [
    "for i in range (3,12) :\n",
    "    tdms_file_path = f'/Users/plpichot/Desktop/backend/TDMSFILES/SWING-{i}-06-16.tdms'\n",
    "    json_file_path = f'/Users/plpichot/Desktop/backend/JSONFILE/SWING{i}.json'\n",
    "    tdms_to_json(tdms_file_path, json_file_path)"
   ]
  }
 ],
 "metadata": {
  "kernelspec": {
   "display_name": "Python 3 (ipykernel)",
   "language": "python",
   "name": "python3"
  },
  "language_info": {
   "codemirror_mode": {
    "name": "ipython",
    "version": 3
   },
   "file_extension": ".py",
   "mimetype": "text/x-python",
   "name": "python",
   "nbconvert_exporter": "python",
   "pygments_lexer": "ipython3",
   "version": "3.9.12"
  }
 },
 "nbformat": 4,
 "nbformat_minor": 5
}
