{
 "cells": [
  {
   "cell_type": "code",
   "execution_count": 1,
   "id": "f20d9426",
   "metadata": {},
   "outputs": [],
   "source": [
    "import csv\n",
    "from nptdms import TdmsFile"
   ]
  },
  {
   "cell_type": "code",
   "execution_count": 2,
   "id": "954325fb",
   "metadata": {},
   "outputs": [],
   "source": [
    "def tdms_to_csv(tdms_file_path, csv_file_path):\n",
    "    tdms_file = TdmsFile.read(tdms_file_path)\n",
    "    data = []\n",
    "    \n",
    "    channels = [channel for group in tdms_file.groups() for channel in group.channels()]\n",
    "\n",
    "    for i in range(500):\n",
    "        sample_data = {}\n",
    "        for channel in channels:\n",
    "            sample_data[channel.name] = channel[i]\n",
    "        data.append(sample_data)\n",
    "\n",
    "    with open(csv_file_path, 'w', newline='') as csv_file:\n",
    "        writer = csv.DictWriter(csv_file, fieldnames=data[0].keys())\n",
    "        writer.writeheader()\n",
    "        writer.writerows(data)"
   ]
  },
  {
   "cell_type": "code",
   "execution_count": 3,
   "id": "bf51e9a9",
   "metadata": {},
   "outputs": [],
   "source": [
    "tdms_file_path = '/Users/plpichot/Desktop/backend/TDMSFILES/SWING-1-06-16.tdms'\n",
    "json_file_path = '/Users/plpichot/Desktop/backend/testconverter.csv'"
   ]
  },
  {
   "cell_type": "code",
   "execution_count": 4,
   "id": "d9c200ce",
   "metadata": {},
   "outputs": [],
   "source": [
    "tdms_to_csv(tdms_file_path, json_file_path)"
   ]
  }
 ],
 "metadata": {
  "kernelspec": {
   "display_name": "Python 3 (ipykernel)",
   "language": "python",
   "name": "python3"
  },
  "language_info": {
   "codemirror_mode": {
    "name": "ipython",
    "version": 3
   },
   "file_extension": ".py",
   "mimetype": "text/x-python",
   "name": "python",
   "nbconvert_exporter": "python",
   "pygments_lexer": "ipython3",
   "version": "3.9.12"
  },
  "vscode": {
   "interpreter": {
    "hash": "31f2aee4e71d21fbe5cf8b01ff0e069b9275f58929596ceb00d14d90e3e16cd6"
   }
  }
 },
 "nbformat": 4,
 "nbformat_minor": 5
}
